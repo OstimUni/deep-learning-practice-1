{
 "cells": [
  {
   "cell_type": "code",
   "execution_count": 1,
   "metadata": {
    "id": "UHwXGnPABiyz"
   },
   "outputs": [
    {
     "name": "stderr",
     "output_type": "stream",
     "text": [
      "2024-11-06 11:19:21.007419: I tensorflow/core/util/port.cc:153] oneDNN custom operations are on. You may see slightly different numerical results due to floating-point round-off errors from different computation orders. To turn them off, set the environment variable `TF_ENABLE_ONEDNN_OPTS=0`.\n",
      "2024-11-06 11:19:21.018067: I external/local_xla/xla/tsl/cuda/cudart_stub.cc:32] Could not find cuda drivers on your machine, GPU will not be used.\n",
      "2024-11-06 11:19:21.028360: I external/local_xla/xla/tsl/cuda/cudart_stub.cc:32] Could not find cuda drivers on your machine, GPU will not be used.\n",
      "2024-11-06 11:19:21.136495: E external/local_xla/xla/stream_executor/cuda/cuda_fft.cc:477] Unable to register cuFFT factory: Attempting to register factory for plugin cuFFT when one has already been registered\n",
      "WARNING: All log messages before absl::InitializeLog() is called are written to STDERR\n",
      "E0000 00:00:1730891961.174691    5837 cuda_dnn.cc:8310] Unable to register cuDNN factory: Attempting to register factory for plugin cuDNN when one has already been registered\n",
      "E0000 00:00:1730891961.181658    5837 cuda_blas.cc:1418] Unable to register cuBLAS factory: Attempting to register factory for plugin cuBLAS when one has already been registered\n",
      "2024-11-06 11:19:21.235418: I tensorflow/core/platform/cpu_feature_guard.cc:210] This TensorFlow binary is optimized to use available CPU instructions in performance-critical operations.\n",
      "To enable the following instructions: AVX2 AVX512F AVX512_VNNI FMA, in other operations, rebuild TensorFlow with the appropriate compiler flags.\n"
     ]
    }
   ],
   "source": [
    "import pandas as pd\n",
    "from sklearn.model_selection import train_test_split\n",
    "from sklearn.preprocessing import StandardScaler\n",
    "import tensorflow as tf\n",
    "from tensorflow.keras.models import Sequential\n",
    "from tensorflow.keras.layers import Dense\n",
    "import keras\n",
    "from sklearn.preprocessing import MinMaxScaler\n"
   ]
  },
  {
   "cell_type": "code",
   "execution_count": null,
   "metadata": {
    "id": "Miq-FHSkBqfG"
   },
   "outputs": [],
   "source": [
    "file_path = 'https://docs.google.com/spreadsheets/d/1V6cBNRohsvWOEcPUMWyZ6tMAvc25Ji2U/export?format=csv'\n",
    "data = pd.read_csv(file_path)\n"
   ]
  },
  {
   "cell_type": "code",
   "execution_count": null,
   "metadata": {
    "id": "53Aji9iKDYP8"
   },
   "outputs": [],
   "source": [
    "\n",
    "# Ensure all values are numeric (convert non-numeric values to NaN)\n",
    "data = data.apply(pd.to_numeric, errors='coerce').fillna(0)\n",
    "# Remove rows where all values are zero\n",
    "data = data.loc[~(data.eq(0).all(axis=1))]\n",
    "\n",
    "data['resi_value'] = data.apply(lambda row : row['resi_value'] if row['trend_type']==-1 else 100-row['resi_value'], axis = 1)\n",
    "\n",
    "data.tail(30)\n",
    "\n"
   ]
  },
  {
   "cell_type": "code",
   "execution_count": null,
   "metadata": {},
   "outputs": [],
   "source": [
    "# # replace all negative values in max_price_move with 0 because out stoploss has been hitted anyway\n",
    "# data[\"max_price_move\"] = data[\"max_price_move\"].apply(lambda x: max(0, x))\n",
    "# data"
   ]
  },
  {
   "cell_type": "code",
   "execution_count": null,
   "metadata": {},
   "outputs": [],
   "source": [
    "reserve = data\n",
    "data = data.drop(['time','price','trend_type','max_seen', 'min_seen'], axis=1)\n",
    "# data = data.drop(['rsi_filter','resistance_filter'], axis=1)"
   ]
  },
  {
   "cell_type": "code",
   "execution_count": null,
   "metadata": {
    "colab": {
     "base_uri": "https://localhost:8080/"
    },
    "id": "ivAIsZxjEZsN",
    "outputId": "5c41aec7-50a4-48c5-9379-a4e7e62e2f55"
   },
   "outputs": [],
   "source": [
    "data.info()"
   ]
  },
  {
   "cell_type": "code",
   "execution_count": null,
   "metadata": {
    "colab": {
     "base_uri": "https://localhost:8080/",
     "height": 300
    },
    "id": "wDaSrJReEeB0",
    "outputId": "040453f5-e078-449c-8182-5d0311b55124"
   },
   "outputs": [],
   "source": [
    "data.describe()"
   ]
  },
  {
   "cell_type": "code",
   "execution_count": null,
   "metadata": {
    "colab": {
     "base_uri": "https://localhost:8080/"
    },
    "id": "WWSJipPgEmYk",
    "outputId": "9d19b345-7fcf-4ee8-aba2-1f10d236750a"
   },
   "outputs": [],
   "source": [
    "data.shape"
   ]
  },
  {
   "cell_type": "code",
   "execution_count": null,
   "metadata": {
    "colab": {
     "base_uri": "https://localhost:8080/",
     "height": 304
    },
    "id": "gpwN1lNGEsH9",
    "outputId": "5e9ce541-1056-4201-dd66-4f639110006e"
   },
   "outputs": [],
   "source": [
    "data.isnull().sum()"
   ]
  },
  {
   "cell_type": "code",
   "execution_count": null,
   "metadata": {
    "colab": {
     "base_uri": "https://localhost:8080/",
     "height": 424
    },
    "id": "W__7AIYdEy7s",
    "outputId": "fc567fd2-0489-4f35-820c-34ac4bd7018c"
   },
   "outputs": [],
   "source": [
    "# normalized_df = keras.utils.normalize(data)\n",
    "# type(normalized_df)\n",
    "# data = pd.DataFrame(normalized_df, columns=[\"leg_3_to_leg_1_time\",\"leg_2_to_leg_1_time\",\"leg_2_correction_percent\",\"resistance\",\"rsi_filter_passed\",\"normalized_rsi\",\"max_price_move\"])\n",
    "# data"
   ]
  },
  {
   "cell_type": "code",
   "execution_count": null,
   "metadata": {},
   "outputs": [],
   "source": [
    "#normalize data\n",
    "columns_to_normalize = data.columns.difference(['rsi_filter'])\n",
    "scaler = MinMaxScaler()\n",
    "data[columns_to_normalize] = scaler.fit_transform(data[columns_to_normalize])\n",
    "\n",
    "#print(data)\n",
    "\n"
   ]
  },
  {
   "cell_type": "code",
   "execution_count": null,
   "metadata": {},
   "outputs": [],
   "source": [
    "import neat\n",
    "import tensorflow as tf\n",
    "import numpy as np\n",
    "from sklearn.model_selection import train_test_split\n",
    "from sklearn.preprocessing import StandardScaler\n",
    "import pandas as pd\n",
    "\n",
    "# Example data setup, replace with your actual dataset\n",
    "data = pd.DataFrame({\n",
    "    'leg_3_to_1': np.random.randn(100),\n",
    "    'leg_2_to_1': np.random.randn(100),\n",
    "    'leg_2_correction': np.random.randn(100),\n",
    "    'resistance_filter': np.random.randn(100),\n",
    "    'rsi_filter': np.random.randn(100),\n",
    "    'resi_value': np.random.randn(100),\n",
    "    'max_move': np.random.randn(100)\n",
    "})\n",
    "\n",
    "# Separate features and target variable\n",
    "X = data[['leg_3_to_1', 'leg_2_to_1', 'leg_2_correction', 'resistance_filter', 'rsi_filter', 'resi_value']]\n",
    "y = data['max_move']\n",
    "\n",
    "# Split the dataset\n",
    "X_train, X_test, y_train, y_test = train_test_split(X, y, test_size=0.2, random_state=42)\n",
    "\n",
    "# Scale the features\n",
    "scaler = StandardScaler()\n",
    "X_train_scaled = scaler.fit_transform(X_train)\n",
    "X_test_scaled = scaler.transform(X_test)\n",
    "\n",
    "# Define the NEAT fitness function\n",
    "def eval_genomes(genomes, config):\n",
    "    for genome_id, genome in genomes:\n",
    "        # Convert NEAT genome to TensorFlow model\n",
    "        model = create_tf_model_from_genome(genome, config, input_shape=X_train_scaled.shape[1])\n",
    "\n",
    "        # Compile the model\n",
    "        model.compile(optimizer='adam', loss='mse')\n",
    "\n",
    "        # Train the model\n",
    "        model.fit(X_train_scaled, y_train, epochs=10, batch_size=32, verbose=0)\n",
    "\n",
    "        # Evaluate and set the fitness score\n",
    "        predictions = model.predict(X_test_scaled)\n",
    "        mse = np.mean((predictions.flatten() - y_test) ** 2)\n",
    "        genome.fitness = -mse  # Using negative MSE to maximize fitness\n",
    "\n",
    "# Function to create a TensorFlow model from a NEAT genome\n",
    "def create_tf_model_from_genome(genome, config, input_shape):\n",
    "    model = tf.keras.Sequential()\n",
    "    \n",
    "    # Input layer\n",
    "    model.add(tf.keras.layers.InputLayer(input_shape=(input_shape,)))\n",
    "\n",
    "    # Hidden layers based on genome connections\n",
    "    for node_key, node in genome.nodes.items():\n",
    "        if node_key not in config.genome_config.output_keys:\n",
    "            activation = 'relu' if node.bias > 0 else 'sigmoid'\n",
    "            model.add(tf.keras.layers.Dense(units=10, activation=activation))\n",
    "    \n",
    "    # Output layer\n",
    "    model.add(tf.keras.layers.Dense(1))  # Regression output\n",
    "\n",
    "    return model\n",
    "\n",
    "# Load NEAT configuration\n",
    "config = neat.Config(neat.DefaultGenome, neat.DefaultReproduction,\n",
    "                     neat.DefaultSpeciesSet, neat.DefaultStagnation,\n",
    "                     'config-feedforward')\n",
    "\n",
    "# Initialize population and evolution reporters\n",
    "population = neat.Population(config)\n",
    "population.add_reporter(neat.StdOutReporter(True))\n",
    "stats = neat.StatisticsReporter()\n",
    "population.add_reporter(stats)\n",
    "\n",
    "# Run NEAT\n",
    "winner = population.run(eval_genomes, n=20)\n",
    "\n",
    "# Evaluate the best evolved model\n",
    "best_model = create_tf_model_from_genome(winner, config, input_shape=X_train_scaled.shape[1])\n",
    "best_model.compile(optimizer='adam', loss='mse', metrics=['mae'])\n",
    "best_model.fit(X_train_scaled, y_train, epochs=50, batch_size=32, verbose=1)\n",
    "test_loss, test_mae = best_model.evaluate(X_test_scaled, y_test, verbose=1)\n",
    "print(f\"Test MAE of best evolved model: {test_mae}\")\n"
   ]
  },
  {
   "cell_type": "code",
   "execution_count": null,
   "metadata": {
    "colab": {
     "base_uri": "https://localhost:8080/",
     "height": 487
    },
    "id": "fIkOUzESBbf9",
    "outputId": "32fefac8-aaea-4bc7-8010-1c65850a71fd"
   },
   "outputs": [],
   "source": [
    "import matplotlib.pyplot as plt\n",
    "\n",
    "# Plot training & validation loss values\n",
    "plt.figure(figsize=(12, 5))\n",
    "\n",
    "# Loss\n",
    "plt.subplot(1, 2, 1)\n",
    "plt.plot(history.history['loss'], label='Training Loss')\n",
    "plt.plot(history.history['val_loss'], label='Validation Loss')\n",
    "plt.title('Model Loss')\n",
    "plt.xlabel('Epoch')\n",
    "plt.ylabel('Loss (MSE)')\n",
    "plt.legend()\n",
    "\n",
    "# Mean Absolute Error\n",
    "plt.subplot(1, 2, 2)\n",
    "plt.plot(history.history['mae'], label='Training MAE')\n",
    "plt.plot(history.history['val_mae'], label='Validation MAE')\n",
    "plt.title('Model Mean Absolute Error')\n",
    "plt.xlabel('Epoch')\n",
    "plt.ylabel('MAE')\n",
    "plt.legend()\n",
    "\n",
    "plt.show()\n"
   ]
  },
  {
   "cell_type": "code",
   "execution_count": null,
   "metadata": {
    "colab": {
     "base_uri": "https://localhost:8080/"
    },
    "id": "fdlAUDCfBbf9",
    "outputId": "2fad02fc-e07c-4bdc-a338-6ed6655a15ab"
   },
   "outputs": [],
   "source": [
    "test_loss, test_mae = model.evaluate(X_test_scaled, y_test, verbose=1)\n",
    "print(f\"Test Loss (MSE): {test_loss}\")\n",
    "print(f\"Test Mean Absolute Error (MAE): {test_mae}\")\n"
   ]
  },
  {
   "cell_type": "code",
   "execution_count": null,
   "metadata": {
    "colab": {
     "base_uri": "https://localhost:8080/"
    },
    "id": "dM5_azsHBbf9",
    "outputId": "29179341-3ed4-4e3d-b8e4-e9723a5bfda5"
   },
   "outputs": [],
   "source": [
    "import numpy as np\n",
    "\n",
    "# Make predictions\n",
    "predictions = model.predict(X_test_scaled).flatten()\n",
    "\n",
    "# Compare predictions with actual values\n",
    "comparison_df = pd.DataFrame({'Actual': y_test, 'Predicted': predictions})\n",
    "print(comparison_df.head(10))  # Display first 10 rows for a quick check\n"
   ]
  },
  {
   "cell_type": "code",
   "execution_count": null,
   "metadata": {
    "id": "LEoF3xXmBbf-"
   },
   "outputs": [],
   "source": []
  }
 ],
 "metadata": {
  "colab": {
   "provenance": []
  },
  "kernelspec": {
   "display_name": "Python 3",
   "language": "python",
   "name": "python3"
  },
  "language_info": {
   "codemirror_mode": {
    "name": "ipython",
    "version": 3
   },
   "file_extension": ".py",
   "mimetype": "text/x-python",
   "name": "python",
   "nbconvert_exporter": "python",
   "pygments_lexer": "ipython3",
   "version": "3.12.1"
  }
 },
 "nbformat": 4,
 "nbformat_minor": 0
}
